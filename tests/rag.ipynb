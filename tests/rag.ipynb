{
 "cells": [
  {
   "cell_type": "code",
   "execution_count": 1,
   "metadata": {},
   "outputs": [
    {
     "name": "stdout",
     "output_type": "stream",
     "text": [
      "The Wikimedia Foundation, Inc., abbreviated WMF, is an American 501(c)(3) nonprofit organization headquartered in San Francisco, California, and registered there as a charitable foundation. It is the host of Wikipedia, the seventh most visited website in the world. In addition, the foundation hosts fourteen other related content projects. It supports the development of MediaWiki, the wiki software that underpins them all. The Foundation was established in 2003 in St. Petersburg, Florida by Jimmy Wales, as a nonprofit way to fund Wikipedia, Wiktionary, and other crowdsourced wiki projects. Until then, they had been hosted by Bomis, Wales's for-profit company. \n",
      "The Foundation finances itself mainly through millions of small donations from Wikipedia readers, collected through email campaigns and annual fundraising banners placed on Wikipedia and its sister projects. These are complemented by grants from philanthropic organizations and tech companies, and starting in 2022, by services income from Wikimedia Enterprise. As of December 31, 2023, it has employed over 700 staff and contractors, with annual revenues of $180.2 million, annual expenses of $169 million, net assets of $255 million and a growing endowment, which surpassed $100 million in June 2021.\n",
      "\n",
      "\n"
     ]
    }
   ],
   "source": [
    "import wikipedia\n",
    "print(wikipedia.summary(\"Wikipedia\"))"
   ]
  }
 ],
 "metadata": {
  "kernelspec": {
   "display_name": "base",
   "language": "python",
   "name": "python3"
  },
  "language_info": {
   "codemirror_mode": {
    "name": "ipython",
    "version": 3
   },
   "file_extension": ".py",
   "mimetype": "text/x-python",
   "name": "python",
   "nbconvert_exporter": "python",
   "pygments_lexer": "ipython3",
   "version": "3.11.5"
  }
 },
 "nbformat": 4,
 "nbformat_minor": 2
}
