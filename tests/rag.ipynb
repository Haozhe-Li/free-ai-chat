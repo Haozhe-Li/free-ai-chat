{
 "cells": [
  {
   "cell_type": "code",
   "execution_count": 2,
   "metadata": {},
   "outputs": [],
   "source": [
    "import wikipedia\n"
   ]
  },
  {
   "cell_type": "code",
   "execution_count": 38,
   "metadata": {},
   "outputs": [],
   "source": [
    "def search(query: list) -> dict:\n",
    "    result = {}\n",
    "    for q in query:\n",
    "        try:\n",
    "            searching_result = wikipedia.search(q)\n",
    "            print(searching_result)\n",
    "            if len(searching_result) > 0:\n",
    "                summary = wikipedia.summary(searching_result[0])[0:2000]\n",
    "                url = wikipedia.page(searching_result[0]).url\n",
    "                result[q] = {'summary': summary, 'url': url}\n",
    "        except Exception as e:\n",
    "            print(e)\n",
    "            result[q] = {'summary': 'Not Found', 'url': 'Not Found'}\n",
    "    return result"
   ]
  },
  {
   "cell_type": "code",
   "execution_count": 39,
   "metadata": {},
   "outputs": [
    {
     "name": "stdout",
     "output_type": "stream",
     "text": [
      "['Beijing', '2008 Summer Olympics', '2022 Winter Olympics', 'Beijing Radio and Television Station', 'Beijing Olympics', 'BAIC Group', '2024 Beijing Declaration', 'Beijing Treaty', 'Beijing Guoan F.C.', 'Beijing Ducks']\n",
      "{'Beijing': {'summary': \"Beijing, previously romanized as Peking, is the capital of China. With more than 22 million residents, Beijing is the world's most populous national capital city as well as China's second largest city after Shanghai. It is located in Northern China, and is governed as a municipality under the direct administration of the State Council with 16 urban, suburban, and rural districts. Beijing is mostly surrounded by Hebei Province with the exception of neighboring Tianjin to the southeast; together, the three divisions form the Jingjinji megalopolis and the national capital region of China.\\nBeijing is a global city and one of the world's leading centres for culture, diplomacy, politics, finance, business and economics, education, research, language, tourism, media, sport, science and technology and transportation and art. It is home to the headquarters of most of China's largest state-owned companies and houses the largest number of Fortune Global 500 companies in the world, as well as the world's four biggest financial institutions by total assets. It is also a major hub for the national highway, expressway, railway, and high-speed rail networks. For a decade before the COVID-19 pandemic, the Beijing Capital International Airport was Asia's busiest airport (2009–2019) and the second busiest airport in the world (2010–2019). In 2020, the Beijing subway was the fourth busiest and second longest in the world. The Beijing Daxing International Airport, Beijing's second international airport, is the largest single-structure airport terminal in the world.\\nBeijing combines both modern and traditional style architectures, with one side of the city being modernized and renovated to fit the times, and the other half still offering traditional hutong districts. Beijing is one of the oldest cities in the world, with a rich history dating back over three millennia. As the last of the Four Great Ancient Capitals of China, Beijing has been the political center of the country for most o...\", 'url': 'https://en.wikipedia.org/wiki/Beijing'}}\n"
     ]
    }
   ],
   "source": []
  }
 ],
 "metadata": {
  "kernelspec": {
   "display_name": "base",
   "language": "python",
   "name": "python3"
  },
  "language_info": {
   "codemirror_mode": {
    "name": "ipython",
    "version": 3
   },
   "file_extension": ".py",
   "mimetype": "text/x-python",
   "name": "python",
   "nbconvert_exporter": "python",
   "pygments_lexer": "ipython3",
   "version": "3.11.5"
  }
 },
 "nbformat": 4,
 "nbformat_minor": 2
}
