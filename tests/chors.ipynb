{
 "cells": [
  {
   "cell_type": "code",
   "execution_count": 4,
   "metadata": {},
   "outputs": [
    {
     "name": "stdout",
     "output_type": "stream",
     "text": [
      "<h2>关于</h2><br>Hi！很高兴能在这里见到你。在这里，你可以体验到最新的大语言模型技术。<br><br><h2>您的隐私至关重要：</h2><br>为了保护您的隐私，本网站的服务器<b>不会</b>存储您的任何个人信息或聊天记录。所有信息均会被存储在您的浏览器本地，这包括但不仅限于：您的设置选择、聊天记录（如果开启）等。您可以点击这里<b><a id='clear_cache'>删除您的所有缓存</a></b>。<br>我们使用了最新的技术来保护您的隐私，但是请注意，我们无法保证绝对的安全性。如果您对隐私有任何疑虑，请不要使用本网站。<br>更多信息请参考我们的<b><a        href='/privacy'>隐私政策</a></b><br><br><h2>可用模型</h2><br>目前支持的模型如下：<br><b>LLaMa 3.1：</b> Meta AI 最强大、最新的开源模型。LLaMa 3.1还支持硬件TPU加速，可以达到百毫秒级别火箭般的响应速度🚀<br><b>GPT-4o：</b> OpenAI 的最新商业多模态模型。使用会比LLaMa 3.1更加稳定，但是响应时间略长🛠️<br><br><h2>问题</h2><br>如果您在使用过程中遇到任何问题，请随时 <b><a href='https://haozhe.li#contact'> 联系我</a></b>，并请附上错误截图。谢谢！🙏<br><br><i><a        href='https://haozhe.li'>来自作者：李浩哲</a></i>\n"
     ]
    }
   ],
   "source": [
    "text = \"\"\"\n",
    "<h2>关于</h2><br>Hi！很高兴能在这里见到你。在这里，你可以体验到最新的大语言模型技术。<br><br>\n",
    "<h2>您的隐私至关重要：</h2>\n",
    "<br>为了保护您的隐私，本网站的服务器<b>不会</b>存储您的任何个人信息或聊天记录。所有信息均会被存储在您的浏览器本地，这包括但不仅限于：您的设置选择、聊天记录（如果开启）等。您可以点击这里<b><a id='clear_cache'>删除您的所有缓存</a></b>。<br>我们使用了最新的技术来保护您的隐私，但是请注意，我们无法保证绝对的安全性。如果您对隐私有任何疑虑，请不要使用本网站。<br>更多信息请参考我们的<b><a\n",
    "        href='/privacy'>隐私政策</a></b><br><br>\n",
    "<h2>可用模型</h2><br>目前支持的模型如下：<br><b>LLaMa 3.1：</b> Meta AI 最强大、最新的开源模型。LLaMa 3.1还支持硬件TPU加速，可以达到百毫秒级别火箭般的响应速度🚀<br><b>GPT-4o：</b> OpenAI 的最新商业多模态模型。使用会比LLaMa 3.1更加稳定，但是响应时间略长🛠️<br><br>\n",
    "<h2>问题</h2><br>如果您在使用过程中遇到任何问题，请随时 <b><a href='https://haozhe.li#contact'> 联系我</a></b>，并请附上错误截图。谢谢！🙏<br><br><i><a\n",
    "        href='https://haozhe.li'>来自作者：李浩哲</a></i>\n",
    "\"\"\"\n",
    "text = text.replace(\"\\n\", \"\")\n",
    "print(text)"
   ]
  },
  {
   "cell_type": "code",
   "execution_count": 10,
   "metadata": {},
   "outputs": [
    {
     "name": "stdout",
     "output_type": "stream",
     "text": [
      "<h2>概要</h2><br>こんにちは！ここでは、最新のビッグ・ランゲージ・モデリング技術を体験できます。<br><br<h2>あなたのプライバシーは重要です:</h2><br<br>あなたのプライバシーを守るため、このサイトのサーバーはあなたの個人情報やチャットログを<b>保存しません</b>。すべての情報はあなたのブラウザにローカルに保存されます。これには、あなたの設定の選択、チャットログ（オンになっている場合）などが含まれますが、これらに限定されません。<b><a id='clear_cache'></a></b>をクリックして、すべてのキャッシュを削除することができます。<br>私たちはあなたのプライバシーを保護するために最新の技術を使用していますが、絶対的なセキュリティを保証することはできませんのでご了承ください。プライバシーについて懸念がある場合は、このサイトのご利用をお控えください。<br>詳しくは<b><a        href='/privacy'>プライバシーポリシー</a></b><br><br>をご覧ください。b> OpenAIの最新の商用マルチモーダルモデル。LLaMa 3.1よりも安定して使えるようになるが、応答時間が若干長くなる 🛠️<br><br><br<h2>問題</h2><br>使用中に何か問題が発生した場合は、<b><a href='https://haozhe.li#contact'> エラーのスクリーンショットを添えて</a></b>お気軽にご連絡ください。ありがとうございました！🙏<br><i><a        href='https://haozhe.li'>作者より: Haozhe Li</a></i>\n"
     ]
    }
   ],
   "source": [
    "import deepl\n",
    "import os\n",
    "translator = deepl.Translator(os.environ[\"DEEPL_API_KEY\"])\n",
    "en_text = translator.translate_text(text, target_lang=\"JA\")\n",
    "en_text = str(en_text).replace(\"\\n\", \"\")\n",
    "print(en_text)"
   ]
  }
 ],
 "metadata": {
  "kernelspec": {
   "display_name": "base",
   "language": "python",
   "name": "python3"
  },
  "language_info": {
   "codemirror_mode": {
    "name": "ipython",
    "version": 3
   },
   "file_extension": ".py",
   "mimetype": "text/x-python",
   "name": "python",
   "nbconvert_exporter": "python",
   "pygments_lexer": "ipython3",
   "version": "3.11.5"
  }
 },
 "nbformat": 4,
 "nbformat_minor": 2
}
