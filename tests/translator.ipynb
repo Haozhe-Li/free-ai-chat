{
 "cells": [
  {
   "cell_type": "code",
   "execution_count": 1,
   "metadata": {},
   "outputs": [],
   "source": [
    "import deepl\n",
    "import json\n",
    "import os"
   ]
  },
  {
   "cell_type": "code",
   "execution_count": 2,
   "metadata": {},
   "outputs": [],
   "source": [
    "translator = deepl.Translator(os.environ[\"DEEPL_API_KEY\"])\n",
    "original_json = \"../i18n/zh.json\"\n"
   ]
  },
  {
   "cell_type": "code",
   "execution_count": 3,
   "metadata": {},
   "outputs": [],
   "source": [
    "\n",
    "def translate_all_values(json_file, target_lang):\n",
    "    with open(json_file, \"r\") as f:\n",
    "        data = json.load(f)\n",
    "    for key, value in data.items():\n",
    "        if isinstance(value, str):\n",
    "            data[key] = translator.translate_text(value, target_lang=target_lang).text\n",
    "    target_json = original_json.replace(\"zh\", target_lang.lower())\n",
    "    with open(target_json, \"w\") as f:\n",
    "        json.dump(data, f, indent=4, ensure_ascii=False)"
   ]
  },
  {
   "cell_type": "code",
   "execution_count": 4,
   "metadata": {},
   "outputs": [],
   "source": [
    "translate_all_values(original_json, \"JA\")"
   ]
  }
 ],
 "metadata": {
  "kernelspec": {
   "display_name": "base",
   "language": "python",
   "name": "python3"
  },
  "language_info": {
   "codemirror_mode": {
    "name": "ipython",
    "version": 3
   },
   "file_extension": ".py",
   "mimetype": "text/x-python",
   "name": "python",
   "nbconvert_exporter": "python",
   "pygments_lexer": "ipython3",
   "version": "3.11.5"
  }
 },
 "nbformat": 4,
 "nbformat_minor": 2
}
