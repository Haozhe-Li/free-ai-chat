{
 "cells": [
  {
   "cell_type": "code",
   "execution_count": 2,
   "metadata": {},
   "outputs": [
    {
     "name": "stdout",
     "output_type": "stream",
     "text": [
      "<h2>About</h2><br>Hi! Here you can experience the latest in big language modelling technology. <br><br><h2>Your Privacy Matters:</h2><br>To protect your privacy, the servers on this site <b>do not</b> store any of yourpersonal information or chat logs. All information is stored locally in your browser, which includes, but is not limitedto: your settings choices, chat logs (if turned on), etc. You can <b><a id='clear_cache'>delete all your caches by        clicking here</a></b>. <br>We use the latest technology to protect your privacy, but please note that we cannotguarantee absolute security. If you have any concerns about privacy, please do not use this site. <br>For moreinformation please refer to our <b><a href='/privacy'>Privacy Policy</a></b><br><br><h2>Available Models</h2><br>The currently supported models are as follows:<br><b>LLaMa 3.1:</b> The most powerful andup-to-date open-source model for Meta AI. LLaMa 3.1 also supports hardware TPU acceleration, which allows super fast response like rocket 🚀<br><b>GPT-4o:</b> OpenAI's latest commercial multi-purpose model.OpenAI's latest commercial multimodal model. Will be more stable to use than LLaMa 3.1, but slightly longer responsetime 🛠️<br><br><h2>Problems</h2><br>If you encounter any problems during use, please feel free to <b><a        href='https://haozhe.li#contact'> contact me</a></b> and please attach a screenshot of the error. Thanks!🙏<br><br><i><a href='https://haozhe.li'>From the author: Haozhe Li</a></i>\n"
     ]
    }
   ],
   "source": [
    "text = \"\"\"\n",
    "<h2>About</h2><br>Hi! Here you can experience the latest in big language modelling technology. <br><br>\n",
    "<h2>Your Privacy Matters:</h2><br>To protect your privacy, the servers on this site <b>do not</b> store any of your\n",
    "personal information or chat logs. All information is stored locally in your browser, which includes, but is not limited\n",
    "to: your settings choices, chat logs (if turned on), etc. You can <b><a id='clear_cache'>delete all your caches by\n",
    "        clicking here</a></b>. <br>We use the latest technology to protect your privacy, but please note that we cannot\n",
    "guarantee absolute security. If you have any concerns about privacy, please do not use this site. <br>For more\n",
    "information please refer to our <b><a href='/privacy'>Privacy Policy</a></b><br><br>\n",
    "<h2>Available Models</h2><br>The currently supported models are as follows:<br><b>LLaMa 3.1:</b> The most powerful and\n",
    "up-to-date open-source model for Meta AI. LLaMa 3.1 also supports hardware TPU acceleration, which allows super fast response like rocket 🚀<br><b>GPT-4o:</b> OpenAI's latest commercial multi-purpose model.\n",
    "OpenAI's latest commercial multimodal model. Will be more stable to use than LLaMa 3.1, but slightly longer response\n",
    "time 🛠️<br><br>\n",
    "<h2>Problems</h2><br>If you encounter any problems during use, please feel free to <b><a\n",
    "        href='https://haozhe.li#contact'> contact me</a></b> and please attach a screenshot of the error. Thanks!\n",
    "🙏<br><br><i><a href='https://haozhe.li'>From the author: Haozhe Li</a></i>\"\"\"\n",
    "text = text.replace(\"\\n\", \"\")\n",
    "print(text)"
   ]
  }
 ],
 "metadata": {
  "kernelspec": {
   "display_name": "base",
   "language": "python",
   "name": "python3"
  },
  "language_info": {
   "codemirror_mode": {
    "name": "ipython",
    "version": 3
   },
   "file_extension": ".py",
   "mimetype": "text/x-python",
   "name": "python",
   "nbconvert_exporter": "python",
   "pygments_lexer": "ipython3",
   "version": "3.11.5"
  }
 },
 "nbformat": 4,
 "nbformat_minor": 2
}
